{
  "cells": [
    {
      "cell_type": "markdown",
      "metadata": {
        "id": "view-in-github",
        "colab_type": "text"
      },
      "source": [
        "<a href=\"https://colab.research.google.com/github/ychuyko/practice/blob/main/Practice_RFD.ipynb\" target=\"_parent\"><img src=\"https://colab.research.google.com/assets/colab-badge.svg\" alt=\"Open In Colab\"/></a>"
      ]
    },
    {
      "cell_type": "markdown",
      "metadata": {
        "id": "xR38A67nx3n4"
      },
      "source": [
        "Выполните ячейку \"setup RFdiffusion\" (нажать на треугольник в кружочке) и ждите..."
      ]
    },
    {
      "cell_type": "code",
      "execution_count": null,
      "metadata": {
        "cellView": "form",
        "id": "pZQnHLuDCsZm"
      },
      "outputs": [],
      "source": [
        "#@title setup **RFdiffusion** (~3min)\n",
        "%%time\n",
        "import os, time, signal\n",
        "import sys, random, string, re\n",
        "if not os.path.isdir(\"params\"):\n",
        "  os.system(\"apt-get install aria2\")\n",
        "  os.system(\"mkdir params\")\n",
        "  # send param download into background\n",
        "  os.system(\"(\\\n",
        "  aria2c -q -x 16 https://files.ipd.uw.edu/krypton/schedules.zip; \\\n",
        "  aria2c -q -x 16 http://files.ipd.uw.edu/pub/RFdiffusion/6f5902ac237024bdd0c176cb93063dc4/Base_ckpt.pt; \\\n",
        "  aria2c -q -x 16 http://files.ipd.uw.edu/pub/RFdiffusion/e29311f6f1bf1af907f9ef9f44b8328b/Complex_base_ckpt.pt; \\\n",
        "  aria2c -q -x 16 http://files.ipd.uw.edu/pub/RFdiffusion/f572d396fae9206628714fb2ce00f72e/Complex_beta_ckpt.pt; \\\n",
        "  aria2c -q -x 16 https://storage.googleapis.com/alphafold/alphafold_params_2022-12-06.tar; \\\n",
        "  tar -xf alphafold_params_2022-12-06.tar -C params; \\\n",
        "  touch params/done.txt) &\")\n",
        "\n",
        "if not os.path.isdir(\"RFdiffusion\"):\n",
        "  print(\"installing RFdiffusion...\")\n",
        "  os.system(\"git clone https://github.com/sokrypton/RFdiffusion.git\")\n",
        "  os.system(\"pip install jedi omegaconf hydra-core icecream pyrsistent pynvml decorator\")\n",
        "  os.system(\"pip install git+https://github.com/NVIDIA/dllogger#egg=dllogger\")\n",
        "  # 17Mar2024: adding --no-dependencies to avoid installing nvidia-cuda-* dependencies\n",
        "  os.system(\"pip install --no-dependencies dgl==2.0.0 -f https://data.dgl.ai/wheels/cu121/repo.html\")\n",
        "  os.system(\"pip install --no-dependencies e3nn==0.3.3 opt_einsum_fx\")\n",
        "  os.system(\"cd RFdiffusion/env/SE3Transformer; pip install .\")\n",
        "  os.system(\"wget -qnc https://files.ipd.uw.edu/krypton/ananas\")\n",
        "  os.system(\"chmod +x ananas\")\n",
        "\n",
        "if not os.path.isdir(\"colabdesign\"):\n",
        "  print(\"installing ColabDesign...\")\n",
        "  os.system(\"pip -q install git+https://github.com/sokrypton/ColabDesign.git\")\n",
        "  os.system(\"ln -s /usr/local/lib/python3.*/dist-packages/colabdesign colabdesign\")\n",
        "\n",
        "if not os.path.isdir(\"RFdiffusion/models\"):\n",
        "  print(\"downloading RFdiffusion params...\")\n",
        "  os.system(\"mkdir RFdiffusion/models\")\n",
        "  models = [\"Base_ckpt.pt\",\"Complex_base_ckpt.pt\",\"Complex_beta_ckpt.pt\"]\n",
        "  for m in models:\n",
        "    while os.path.isfile(f\"{m}.aria2\"):\n",
        "      time.sleep(5)\n",
        "  os.system(f\"mv {' '.join(models)} RFdiffusion/models\")\n",
        "  os.system(\"unzip schedules.zip; rm schedules.zip\")\n",
        "\n",
        "if 'RFdiffusion' not in sys.path:\n",
        "  os.environ[\"DGLBACKEND\"] = \"pytorch\"\n",
        "  sys.path.append('RFdiffusion')\n",
        "\n",
        "from google.colab import files\n",
        "import json\n",
        "import numpy as np\n",
        "import matplotlib.pyplot as plt\n",
        "from IPython.display import display, HTML\n",
        "import ipywidgets as widgets\n",
        "import py3Dmol\n",
        "\n",
        "from inference.utils import parse_pdb\n",
        "from colabdesign.rf.utils import get_ca\n",
        "from colabdesign.rf.utils import fix_contigs, fix_partial_contigs, fix_pdb, sym_it\n",
        "from colabdesign.shared.protein import pdb_to_string\n",
        "from colabdesign.shared.plot import plot_pseudo_3D\n",
        "\n",
        "def get_pdb(pdb_code=None):\n",
        "  if pdb_code is None or pdb_code == \"\":\n",
        "    upload_dict = files.upload()\n",
        "    pdb_string = upload_dict[list(upload_dict.keys())[0]]\n",
        "    with open(\"tmp.pdb\",\"wb\") as out: out.write(pdb_string)\n",
        "    return \"tmp.pdb\"\n",
        "  elif os.path.isfile(pdb_code):\n",
        "    return pdb_code\n",
        "  elif len(pdb_code) == 4:\n",
        "    if not os.path.isfile(f\"{pdb_code}.pdb1\"):\n",
        "      os.system(f\"wget -qnc https://files.rcsb.org/download/{pdb_code}.pdb1.gz\")\n",
        "      os.system(f\"gunzip {pdb_code}.pdb1.gz\")\n",
        "    return f\"{pdb_code}.pdb1\"\n",
        "  else:\n",
        "    os.system(f\"wget -qnc https://alphafold.ebi.ac.uk/files/AF-{pdb_code}-F1-model_v3.pdb\")\n",
        "    return f\"AF-{pdb_code}-F1-model_v3.pdb\"\n",
        "\n",
        "def run_ananas(pdb_str, path, sym=None):\n",
        "  pdb_filename = f\"outputs/{path}/ananas_input.pdb\"\n",
        "  out_filename = f\"outputs/{path}/ananas.json\"\n",
        "  with open(pdb_filename,\"w\") as handle:\n",
        "    handle.write(pdb_str)\n",
        "\n",
        "  cmd = f\"./ananas {pdb_filename} -u -j {out_filename}\"\n",
        "  if sym is None: os.system(cmd)\n",
        "  else: os.system(f\"{cmd} {sym}\")\n",
        "\n",
        "  # parse results\n",
        "  try:\n",
        "    out = json.loads(open(out_filename,\"r\").read())\n",
        "    results,AU = out[0], out[-1][\"AU\"]\n",
        "    group = AU[\"group\"]\n",
        "    chains = AU[\"chain names\"]\n",
        "    rmsd = results[\"Average_RMSD\"]\n",
        "    print(f\"AnAnaS detected {group} symmetry at RMSD:{rmsd:.3}\")\n",
        "\n",
        "    C = np.array(results['transforms'][0]['CENTER'])\n",
        "    A = [np.array(t[\"AXIS\"]) for t in results['transforms']]\n",
        "\n",
        "    # apply symmetry and filter to the asymmetric unit\n",
        "    new_lines = []\n",
        "    for line in pdb_str.split(\"\\n\"):\n",
        "      if line.startswith(\"ATOM\"):\n",
        "        chain = line[21:22]\n",
        "        if chain in chains:\n",
        "          x = np.array([float(line[i:(i+8)]) for i in [30,38,46]])\n",
        "          if group[0] == \"c\":\n",
        "            x = sym_it(x,C,A[0])\n",
        "          if group[0] == \"d\":\n",
        "            x = sym_it(x,C,A[1],A[0])\n",
        "          coord_str = \"\".join([\"{:8.3f}\".format(a) for a in x])\n",
        "          new_lines.append(line[:30]+coord_str+line[54:])\n",
        "      else:\n",
        "        new_lines.append(line)\n",
        "    return results, \"\\n\".join(new_lines)\n",
        "\n",
        "  except:\n",
        "    return None, pdb_str\n",
        "\n",
        "def run(command, steps, num_designs=1, visual=\"none\"):\n",
        "\n",
        "  def run_command_and_get_pid(command):\n",
        "    pid_file = '/dev/shm/pid'\n",
        "    os.system(f'nohup {command} & echo $! > {pid_file}')\n",
        "    with open(pid_file, 'r') as f:\n",
        "      pid = int(f.read().strip())\n",
        "    os.remove(pid_file)\n",
        "    return pid\n",
        "  def is_process_running(pid):\n",
        "    try:\n",
        "      os.kill(pid, 0)\n",
        "    except OSError:\n",
        "      return False\n",
        "    else:\n",
        "      return True\n",
        "\n",
        "  run_output = widgets.Output()\n",
        "  progress = widgets.FloatProgress(min=0, max=1, description='running', bar_style='info')\n",
        "  display(widgets.VBox([progress, run_output]))\n",
        "\n",
        "  # clear previous run\n",
        "  for n in range(steps):\n",
        "    if os.path.isfile(f\"/dev/shm/{n}.pdb\"):\n",
        "      os.remove(f\"/dev/shm/{n}.pdb\")\n",
        "\n",
        "  pid = run_command_and_get_pid(command)\n",
        "  try:\n",
        "    fail = False\n",
        "    for _ in range(num_designs):\n",
        "\n",
        "      # for each step check if output generated\n",
        "      for n in range(steps):\n",
        "        wait = True\n",
        "        while wait and not fail:\n",
        "          time.sleep(0.1)\n",
        "          if os.path.isfile(f\"/dev/shm/{n}.pdb\"):\n",
        "            pdb_str = open(f\"/dev/shm/{n}.pdb\").read()\n",
        "            if pdb_str[-3:] == \"TER\":\n",
        "              wait = False\n",
        "            elif not is_process_running(pid):\n",
        "              fail = True\n",
        "          elif not is_process_running(pid):\n",
        "            fail = True\n",
        "\n",
        "        if fail:\n",
        "          progress.bar_style = 'danger'\n",
        "          progress.description = \"failed\"\n",
        "          break\n",
        "\n",
        "        else:\n",
        "          progress.value = (n+1) / steps\n",
        "          if visual != \"none\":\n",
        "            with run_output:\n",
        "              run_output.clear_output(wait=True)\n",
        "              if visual == \"image\":\n",
        "                xyz, bfact = get_ca(f\"/dev/shm/{n}.pdb\", get_bfact=True)\n",
        "                fig = plt.figure()\n",
        "                fig.set_dpi(100);fig.set_figwidth(6);fig.set_figheight(6)\n",
        "                ax1 = fig.add_subplot(111);ax1.set_xticks([]);ax1.set_yticks([])\n",
        "                plot_pseudo_3D(xyz, c=bfact, cmin=0.5, cmax=0.9, ax=ax1)\n",
        "                plt.show()\n",
        "              if visual == \"interactive\":\n",
        "                view = py3Dmol.view(js='https://3dmol.org/build/3Dmol.js')\n",
        "                view.addModel(pdb_str,'pdb')\n",
        "                view.setStyle({'cartoon': {'colorscheme': {'prop':'b','gradient': 'roygb','min':0.5,'max':0.9}}})\n",
        "                view.zoomTo()\n",
        "                view.show()\n",
        "        if os.path.exists(f\"/dev/shm/{n}.pdb\"):\n",
        "          os.remove(f\"/dev/shm/{n}.pdb\")\n",
        "      if fail:\n",
        "        progress.bar_style = 'danger'\n",
        "        progress.description = \"failed\"\n",
        "        break\n",
        "\n",
        "    while is_process_running(pid):\n",
        "      time.sleep(0.1)\n",
        "\n",
        "  except KeyboardInterrupt:\n",
        "    os.kill(pid, signal.SIGTERM)\n",
        "    progress.bar_style = 'danger'\n",
        "    progress.description = \"stopped\"\n",
        "\n",
        "def run_diffusion(contigs, path, pdb=None, iterations=50,\n",
        "                  symmetry=\"none\", order=1, hotspot=None,\n",
        "                  chains=None, add_potential=False, partial_T=\"auto\",\n",
        "                  num_designs=1, use_beta_model=False, visual=\"none\"):\n",
        "\n",
        "  full_path = f\"outputs/{path}\"\n",
        "  os.makedirs(full_path, exist_ok=True)\n",
        "  opts = [f\"inference.output_prefix={full_path}\",\n",
        "          f\"inference.num_designs={num_designs}\"]\n",
        "\n",
        "  if chains == \"\": chains = None\n",
        "\n",
        "  # determine symmetry type\n",
        "  if symmetry in [\"auto\",\"cyclic\",\"dihedral\"]:\n",
        "    if symmetry == \"auto\":\n",
        "      sym, copies = None, 1\n",
        "    else:\n",
        "      sym, copies = {\"cyclic\":(f\"c{order}\",order),\n",
        "                     \"dihedral\":(f\"d{order}\",order*2)}[symmetry]\n",
        "  else:\n",
        "    symmetry = None\n",
        "    sym, copies = None, 1\n",
        "\n",
        "  # determine mode\n",
        "  contigs = contigs.replace(\",\",\" \").replace(\":\",\" \").split()\n",
        "  is_fixed, is_free = False, False\n",
        "  fixed_chains = []\n",
        "  for contig in contigs:\n",
        "    for x in contig.split(\"/\"):\n",
        "      a = x.split(\"-\")[0]\n",
        "      if a[0].isalpha():\n",
        "        is_fixed = True\n",
        "        if a[0] not in fixed_chains:\n",
        "          fixed_chains.append(a[0])\n",
        "      if a.isnumeric():\n",
        "        is_free = True\n",
        "  if len(contigs) == 0 or not is_free:\n",
        "    mode = \"partial\"\n",
        "  elif is_fixed:\n",
        "    mode = \"fixed\"\n",
        "  else:\n",
        "    mode = \"free\"\n",
        "\n",
        "  # fix input contigs\n",
        "  if mode in [\"partial\",\"fixed\"]:\n",
        "    pdb_str = pdb_to_string(get_pdb(pdb), chains=chains)\n",
        "    if symmetry == \"auto\":\n",
        "      a, pdb_str = run_ananas(pdb_str, path)\n",
        "      if a is None:\n",
        "        print(f'ERROR: no symmetry detected')\n",
        "        symmetry = None\n",
        "        sym, copies = None, 1\n",
        "      else:\n",
        "        if a[\"group\"][0] == \"c\":\n",
        "          symmetry = \"cyclic\"\n",
        "          sym, copies = a[\"group\"], int(a[\"group\"][1:])\n",
        "        elif a[\"group\"][0] == \"d\":\n",
        "          symmetry = \"dihedral\"\n",
        "          sym, copies = a[\"group\"], 2 * int(a[\"group\"][1:])\n",
        "        else:\n",
        "          print(f'ERROR: the detected symmetry ({a[\"group\"]}) not currently supported')\n",
        "          symmetry = None\n",
        "          sym, copies = None, 1\n",
        "\n",
        "    elif mode == \"fixed\":\n",
        "      pdb_str = pdb_to_string(pdb_str, chains=fixed_chains)\n",
        "\n",
        "    pdb_filename = f\"{full_path}/input.pdb\"\n",
        "    with open(pdb_filename, \"w\") as handle:\n",
        "      handle.write(pdb_str)\n",
        "\n",
        "    parsed_pdb = parse_pdb(pdb_filename)\n",
        "    opts.append(f\"inference.input_pdb={pdb_filename}\")\n",
        "    if mode in [\"partial\"]:\n",
        "      if partial_T == \"auto\":\n",
        "        iterations = int(80 * (iterations / 200))\n",
        "      else:\n",
        "        iterations = int(partial_T)\n",
        "      opts.append(f\"diffuser.partial_T={iterations}\")\n",
        "      contigs = fix_partial_contigs(contigs, parsed_pdb)\n",
        "    else:\n",
        "      opts.append(f\"diffuser.T={iterations}\")\n",
        "      contigs = fix_contigs(contigs, parsed_pdb)\n",
        "  else:\n",
        "    opts.append(f\"diffuser.T={iterations}\")\n",
        "    parsed_pdb = None\n",
        "    contigs = fix_contigs(contigs, parsed_pdb)\n",
        "\n",
        "  if hotspot is not None and hotspot != \"\":\n",
        "    hotspot = \",\".join(hotspot.replace(\",\",\" \").split())\n",
        "    opts.append(f\"ppi.hotspot_res='[{hotspot}]'\")\n",
        "\n",
        "  # setup symmetry\n",
        "  if sym is not None:\n",
        "    sym_opts = [\"--config-name symmetry\", f\"inference.symmetry={sym}\"]\n",
        "    if add_potential:\n",
        "      sym_opts += [\"'potentials.guiding_potentials=[\\\"type:olig_contacts,weight_intra:1,weight_inter:0.1\\\"]'\",\n",
        "                   \"potentials.olig_intra_all=True\",\"potentials.olig_inter_all=True\",\n",
        "                   \"potentials.guide_scale=2\",\"potentials.guide_decay=quadratic\"]\n",
        "    opts = sym_opts + opts\n",
        "    contigs = sum([contigs] * copies,[])\n",
        "\n",
        "  opts.append(f\"'contigmap.contigs=[{' '.join(contigs)}]'\")\n",
        "  opts += [\"inference.dump_pdb=True\",\"inference.dump_pdb_path='/dev/shm'\"]\n",
        "  if use_beta_model:\n",
        "    opts += [\"inference.ckpt_override_path=./RFdiffusion/models/Complex_beta_ckpt.pt\"]\n",
        "\n",
        "  print(\"mode:\", mode)\n",
        "  print(\"output:\", full_path)\n",
        "  print(\"contigs:\", contigs)\n",
        "\n",
        "  opts_str = \" \".join(opts)\n",
        "  cmd = f\"./RFdiffusion/run_inference.py {opts_str}\"\n",
        "  print(cmd)\n",
        "\n",
        "  # RUN\n",
        "  run(cmd, iterations, num_designs, visual=visual)\n",
        "\n",
        "  # fix pdbs\n",
        "  for n in range(num_designs):\n",
        "    pdbs = [f\"outputs/traj/{path}_{n}_pX0_traj.pdb\",\n",
        "            f\"outputs/traj/{path}_{n}_Xt-1_traj.pdb\",\n",
        "            f\"{full_path}_{n}.pdb\"]\n",
        "    for pdb in pdbs:\n",
        "      with open(pdb,\"r\") as handle: pdb_str = handle.read()\n",
        "      with open(pdb,\"w\") as handle: handle.write(fix_pdb(pdb_str, contigs))\n",
        "\n",
        "  return contigs, copies"
      ]
    },
    {
      "cell_type": "markdown",
      "metadata": {
        "id": "cekZAdvPAcy_"
      },
      "source": [
        "Дальше запустите следующую ячейку: здесь скачиваются нужные для работы файлы: веса для модели, шаблоны остовов белков, на основе которых будут генерироваться молекулы и скрипты для выплонения дизайна."
      ]
    },
    {
      "cell_type": "code",
      "execution_count": null,
      "metadata": {
        "collapsed": true,
        "id": "c0weEXE5AbGT"
      },
      "outputs": [],
      "source": [
        "! pip install py3Dmol\n",
        "import py3Dmol\n",
        "import os\n",
        "\n",
        "def pdb_view(path):\n",
        "  with open(path) as ifile:\n",
        "    system = \"\".join([x for x in ifile])\n",
        "\n",
        "  view = py3Dmol.view(width=800, height=600)\n",
        "  view.addModelsAsFrames(system)\n",
        "  view.setStyle({'model': -1}, {\"cartoon\": {'color': 'spectrum'}})\n",
        "  view.zoomTo()\n",
        "  view.show()\n",
        "\n",
        "os.chdir('/content/RFdiffusion/models/')\n",
        "! wget http://files.ipd.uw.edu/pub/RFdiffusion/60f09a193fb5e5ccdc4980417708dbab/Complex_Fold_base_ckpt.pt\n",
        "\n",
        "os.chdir('/content/RFdiffusion/examples/')\n",
        "! tar -xvf ./ppi_scaffolds_subset.tar.gz\n",
        "! wget https://raw.githubusercontent.com/ychuyko/practice/main/design_ppi_scaffolded_1.sh\n",
        "! wget https://raw.githubusercontent.com/ychuyko/practice/main/design_ppi_scaffolded_ab.sh\n",
        "! chmod 777 ./design_ppi_scaffolded_1.sh ./design_ppi_scaffolded_ab.sh\n",
        "\n",
        "os.chdir('/content/')\n",
        "! wget https://files.rcsb.org/view/5TJD.pdb\n",
        "! chmod 777 ./5TJD.pdb"
      ]
    },
    {
      "cell_type": "markdown",
      "metadata": {
        "id": "o6xPnuGSzONg"
      },
      "source": [
        "Запустите следующую ячейку. Это базовый пример генерации новой белковой молекулы -- связующего белка к инсулиновому рецептору. Посмотрим, что получится. Придется немного подождать, но поверьте, учитывая проблемы дизайна и предсказания фолдинга белков, 2 минуты для одного белка -- это очень быстро.\n",
        "\n",
        "Здесь запускается скрипт: ppi_scaffolded_1.sh. Если очень интересно, можете найти его в дереве файлов в папке examples и посмотреть, что за страшные слова там написаны."
      ]
    },
    {
      "cell_type": "code",
      "execution_count": null,
      "metadata": {
        "collapsed": true,
        "id": "WL6t-iGDyEb8"
      },
      "outputs": [],
      "source": [
        "os.chdir('/content/RFdiffusion/examples/')\n",
        "! ./design_ppi_scaffolded_1.sh"
      ]
    },
    {
      "cell_type": "markdown",
      "metadata": {
        "id": "Wfv-OIgB5jTr"
      },
      "source": [
        "Для начала можно посмотреть, как выглядит инсулиновый рецептор:"
      ]
    },
    {
      "cell_type": "code",
      "execution_count": null,
      "metadata": {
        "id": "PE20NSSF4isI"
      },
      "outputs": [],
      "source": [
        "pdb_view('/content/RFdiffusion/examples/input_pdbs/insulin_target.pdb')"
      ]
    },
    {
      "cell_type": "markdown",
      "metadata": {
        "id": "TPHsDbcS5sCn"
      },
      "source": [
        "Теперь посмотрим на результат, сгенерированный RFDiffusion:"
      ]
    },
    {
      "cell_type": "code",
      "execution_count": null,
      "metadata": {
        "id": "VovqPmIr52Jt"
      },
      "outputs": [],
      "source": [
        "pdb_view('/content/RFdiffusion/examples/example_outputs/design_ppi_scaffolded_0.pdb')"
      ]
    },
    {
      "cell_type": "markdown",
      "source": [
        "!!!!ЕСЛИ ЧТО-ТО НЕ ПОЛУЧИЛОСЬ, НЕ ПАНИКУЕМ!!! (у меня вообще каждый день ничего не получается, такова жизнь)\n",
        "\n",
        "Перейдите к ячейке ниже: здесь скачивается уже готовый результат, можем просто на него посмотреть глазками и порадоваться."
      ],
      "metadata": {
        "id": "jka7IijUhfDM"
      }
    },
    {
      "cell_type": "code",
      "source": [
        "os.chdir('/content/')\n",
        "! wget https://raw.githubusercontent.com/ychuyko/practice/main/design_ppi_scaffolded_0.pdb\n",
        "pdb_view('/content/design_ppi_scaffolded_0.pdb')"
      ],
      "metadata": {
        "id": "y4kn1dC3iHEz"
      },
      "execution_count": null,
      "outputs": []
    },
    {
      "cell_type": "markdown",
      "metadata": {
        "id": "3nzJ2bKf6Gsh"
      },
      "source": [
        "Связующий белок для инсулина в нормальном мире это пептид. Вспоминаем лекцию: пептиды -- короткие белковые молекулы, как например, инсулин:"
      ]
    },
    {
      "cell_type": "code",
      "execution_count": null,
      "metadata": {
        "id": "A12-jXxy6fkr"
      },
      "outputs": [],
      "source": [
        "os.chdir('/content/')\n",
        "! wget https://files.rcsb.org/view/1BEN.pdb\n",
        "pdb_view('./1BEN.pdb')"
      ]
    },
    {
      "cell_type": "markdown",
      "metadata": {
        "id": "lw2EcomI6_DA"
      },
      "source": [
        "А теперь попробуем пофантазировать и создать для инсулинового рецептора связывающуюся с ним молекулу в виде антитела. RFDiffusion на основе вторичной структуры известных молекул может создавать новые с уникальной последовательностью и строением.\n",
        "\n",
        "Сейчас мы попробуем создать новый белок к инсулиновому рецептору на основе молекулы антитела, изображенной ниже (запустите ячейку):"
      ]
    },
    {
      "cell_type": "code",
      "execution_count": null,
      "metadata": {
        "id": "NifTmiBQ8NGL"
      },
      "outputs": [],
      "source": [
        "pdb_view('/content/5TJD.pdb')"
      ]
    },
    {
      "cell_type": "markdown",
      "metadata": {
        "id": "leHA0Mcs8RqV"
      },
      "source": [
        "Перед этим необходимо создать новый так называемый шаблон для последующей генерации:"
      ]
    },
    {
      "cell_type": "code",
      "execution_count": null,
      "metadata": {
        "id": "3BycjGxC8dbc"
      },
      "outputs": [],
      "source": [
        "! /content/RFdiffusion/helper_scripts/make_secstruc_adj.py --input_pdb /content/5TJD.pdb --out_dir /content/RFdiffusion/ab"
      ]
    },
    {
      "cell_type": "markdown",
      "metadata": {
        "id": "zE_hPBXP8qgz"
      },
      "source": [
        "И опять запускаем скрипт для дизайна, опять ждем:"
      ]
    },
    {
      "cell_type": "code",
      "execution_count": null,
      "metadata": {
        "id": "PA1gWan68vXG"
      },
      "outputs": [],
      "source": [
        "  os.chdir('/content/RFdiffusion/examples/')\n",
        "  ! ./design_ppi_scaffolded_ab.sh"
      ]
    },
    {
      "cell_type": "markdown",
      "source": [
        "И знаменательный момент: смотрим, что получилось!"
      ],
      "metadata": {
        "id": "eEMLSsi7VtBo"
      }
    },
    {
      "cell_type": "code",
      "source": [
        "pdb_view('/content/RFdiffusion/examples/example_outputs/design_ppi_scaffolded_ab_0.pdb')"
      ],
      "metadata": {
        "id": "2vImli96VsRc"
      },
      "execution_count": null,
      "outputs": []
    },
    {
      "cell_type": "markdown",
      "source": [
        "!!!ПОМНИМ, ЧТО ЕСЛИ НИЧЕГО НЕ ПОЛУЧИЛОСЬ, НЕ ПАНИКУЕМ!!!\n",
        "\n",
        "На этот случай я уже все подгтовила: запускаем ячейку ниже и наслаждаемся:"
      ],
      "metadata": {
        "id": "Ef39KgihkWsZ"
      }
    },
    {
      "cell_type": "code",
      "source": [
        "os.chdir('/content/')\n",
        "! wget https://raw.githubusercontent.com/ychuyko/practice/main/design_ppi_scaffolded_ab_0.pdb\n",
        "pdb_view('./design_ppi_scaffolded_ab_0.pdb')"
      ],
      "metadata": {
        "id": "WQA2rJ_1krkw"
      },
      "execution_count": null,
      "outputs": []
    },
    {
      "cell_type": "markdown",
      "source": [
        "Сравните полученную структуру с тем антителом, что вы видели выше. Похоже?\n",
        "\n",
        "\n",
        "Ответ: нет, ни разу. Так быть не должно. Вот мы и подобрались к проблеме. Все методы машинного обучения действительно хороши, достаточно точно предсказывают структуры белков. Но антитела не входят в этот счет, потому что имеют в себе неупорядоченные фрагменты структуры, которые непосредственно связываются с белком-мишенью.\n",
        "Почему это так важно? Антитела используются в терапии многих заболеваний, в том числе вирусных и аутоиммунных, их разработка и производство существующими методами недостаточно эффективно: дорого, долго и нет должного разнообразия последовательностей. А методами машинного обучения можно было бы решить эту проблему и быстро генерировать множество новых структур (тысячи и десятки тысяч).\n",
        "\n",
        "Но пока что эта задача все еще остается не очевидно решаемой. Во-первых, по причине того, что вы видели выше. Во-вторых, все еще нет действительно эффективного и быстрого способа оценивать полученные молекулы на эффективность. Молекулярное моделирование - долго (это уже совсем другая история), проверка экспериментально - очевидно, что дорого, любая лаборатория откажется синтезировать ваши сгенерированные последовательности буквально после десятой неудачи.\n",
        "\n",
        "Так что мир разработки и дизайна новых лекарств, будь то малые молекулы или белки, не так прост, тем и интересен :)"
      ],
      "metadata": {
        "id": "DvQeQi0cZ2v1"
      }
    }
  ],
  "metadata": {
    "accelerator": "GPU",
    "colab": {
      "provenance": [],
      "include_colab_link": true
    },
    "gpuClass": "standard",
    "kernelspec": {
      "display_name": "Python 3",
      "name": "python3"
    },
    "language_info": {
      "name": "python"
    }
  },
  "nbformat": 4,
  "nbformat_minor": 0
}